{
  "nbformat": 4,
  "nbformat_minor": 0,
  "metadata": {
    "colab": {
      "name": "DeepLearningMnist.ipynb",
      "provenance": [],
      "collapsed_sections": [],
      "include_colab_link": true
    },
    "kernelspec": {
      "display_name": "Python 3",
      "language": "python",
      "name": "python3"
    },
    "language_info": {
      "codemirror_mode": {
        "name": "ipython",
        "version": 3
      },
      "file_extension": ".py",
      "mimetype": "text/x-python",
      "name": "python",
      "nbconvert_exporter": "python",
      "pygments_lexer": "ipython3",
      "version": "3.7.4"
    }
  },
  "cells": [
    {
      "cell_type": "markdown",
      "metadata": {
        "id": "view-in-github",
        "colab_type": "text"
      },
      "source": [
        "<a href=\"https://colab.research.google.com/github/ermkgoel/AIML-Projects/blob/master/DeepLearningMnist.ipynb\" target=\"_parent\"><img src=\"https://colab.research.google.com/assets/colab-badge.svg\" alt=\"Open In Colab\"/></a>"
      ]
    },
    {
      "cell_type": "code",
      "metadata": {
        "id": "vA5_mIo78Afu"
      },
      "source": [
        "import numpy as np\n",
        "import pandas as pd\n",
        "from sklearn import metrics\n",
        "import matplotlib.pyplot as plt\n",
        "%matplotlib inline\n",
        "\n",
        "\n",
        "\n",
        "# Using Tensorflow Keras instead of the original Keras\n",
        "\n",
        "from tensorflow.keras.datasets import mnist\n",
        "from tensorflow.keras import Sequential\n",
        "from tensorflow.keras.layers import Dense\n",
        "\n",
        "\n"
      ],
      "execution_count": 2,
      "outputs": []
    },
    {
      "cell_type": "code",
      "metadata": {
        "colab": {
          "base_uri": "https://localhost:8080/"
        },
        "id": "tEKugk2a8Afy",
        "outputId": "3a0a45d3-a224-44e4-e3a7-73a827a39fe0"
      },
      "source": [
        "(xtrain,ytrain),(xtest,ytest)=mnist.load_data()"
      ],
      "execution_count": 3,
      "outputs": [
        {
          "output_type": "stream",
          "text": [
            "Downloading data from https://storage.googleapis.com/tensorflow/tf-keras-datasets/mnist.npz\n",
            "11493376/11490434 [==============================] - 0s 0us/step\n"
          ],
          "name": "stdout"
        }
      ]
    },
    {
      "cell_type": "code",
      "metadata": {
        "colab": {
          "base_uri": "https://localhost:8080/"
        },
        "id": "kwGbI1p18Af0",
        "outputId": "c4d23187-e900-48d1-aa0b-5fd40ce0a7a9"
      },
      "source": [
        "xtrain.shape\n"
      ],
      "execution_count": 4,
      "outputs": [
        {
          "output_type": "execute_result",
          "data": {
            "text/plain": [
              "(60000, 28, 28)"
            ]
          },
          "metadata": {
            "tags": []
          },
          "execution_count": 4
        }
      ]
    },
    {
      "cell_type": "code",
      "metadata": {
        "colab": {
          "base_uri": "https://localhost:8080/",
          "height": 283
        },
        "id": "hT3TVhgF8Af3",
        "outputId": "7ee0fc16-d19b-420a-9b38-67e1e7d5e595"
      },
      "source": [
        "plt.imshow(xtrain[1,:,:],cmap='gray')"
      ],
      "execution_count": 5,
      "outputs": [
        {
          "output_type": "execute_result",
          "data": {
            "text/plain": [
              "<matplotlib.image.AxesImage at 0x7f9e0fa01da0>"
            ]
          },
          "metadata": {
            "tags": []
          },
          "execution_count": 5
        },
        {
          "output_type": "display_data",
          "data": {
            "image/png": "[encoded data removed]",
            "text/plain": [
              "<Figure size 432x288 with 1 Axes>"
            ]
          },
          "metadata": {
            "tags": [],
            "needs_background": "light"
          }
        }
      ]
    },
    {
      "cell_type": "code",
      "metadata": {
        "colab": {
          "base_uri": "https://localhost:8080/"
        },
        "id": "OGFV6ECu8Af5",
        "outputId": "3364a38f-9c48-4650-a097-1185277dd4f5"
      },
      "source": [
        "ytrain[1]"
      ],
      "execution_count": 6,
      "outputs": [
        {
          "output_type": "execute_result",
          "data": {
            "text/plain": [
              "0"
            ]
          },
          "metadata": {
            "tags": []
          },
          "execution_count": 6
        }
      ]
    },
    {
      "cell_type": "code",
      "metadata": {
        "colab": {
          "base_uri": "https://localhost:8080/",
          "height": 283
        },
        "id": "J3RndLvO8Af8",
        "outputId": "72b85518-a7f0-4ff1-d762-67b9032c0d1a"
      },
      "source": [
        "plt.imshow(xtest[0,:,:],cmap='gray')"
      ],
      "execution_count": 7,
      "outputs": [
        {
          "output_type": "execute_result",
          "data": {
            "text/plain": [
              "<matplotlib.image.AxesImage at 0x7f9e0f55a198>"
            ]
          },
          "metadata": {
            "tags": []
          },
          "execution_count": 7
        },
        {
          "output_type": "display_data",
          "data": {
            "image/png": "[encoded data removed]",
            "text/plain": [
              "<Figure size 432x288 with 1 Axes>"
            ]
          },
          "metadata": {
            "tags": [],
            "needs_background": "light"
          }
        }
      ]
    },
    {
      "cell_type": "code",
      "metadata": {
        "colab": {
          "base_uri": "https://localhost:8080/"
        },
        "id": "rWKzG0Uz8Af-",
        "outputId": "50b6e2bb-ef79-4d3d-e0a9-0b203d6bf5dc"
      },
      "source": [
        "ytrain[:50]"
      ],
      "execution_count": 8,
      "outputs": [
        {
          "output_type": "execute_result",
          "data": {
            "text/plain": [
              "array([5, 0, 4, 1, 9, 2, 1, 3, 1, 4, 3, 5, 3, 6, 1, 7, 2, 8, 6, 9, 4, 0,\n",
              "       9, 1, 1, 2, 4, 3, 2, 7, 3, 8, 6, 9, 0, 5, 6, 0, 7, 6, 1, 8, 7, 9,\n",
              "       3, 9, 8, 5, 9, 3], dtype=uint8)"
            ]
          },
          "metadata": {
            "tags": []
          },
          "execution_count": 8
        }
      ]
    },
    {
      "cell_type": "code",
      "metadata": {
        "colab": {
          "base_uri": "https://localhost:8080/"
        },
        "id": "eUlVvVev8AgA",
        "outputId": "78299b23-8784-4fa4-fb6c-638d4978ed43"
      },
      "source": [
        "L=pd.DataFrame(ytrain)\n",
        "L[0].value_counts()"
      ],
      "execution_count": 9,
      "outputs": [
        {
          "output_type": "execute_result",
          "data": {
            "text/plain": [
              "1    6742\n",
              "7    6265\n",
              "3    6131\n",
              "2    5958\n",
              "9    5949\n",
              "0    5923\n",
              "6    5918\n",
              "8    5851\n",
              "4    5842\n",
              "5    5421\n",
              "Name: 0, dtype: int64"
            ]
          },
          "metadata": {
            "tags": []
          },
          "execution_count": 9
        }
      ]
    },
    {
      "cell_type": "code",
      "metadata": {
        "id": "WQYuYZGd8AgD"
      },
      "source": [
        "#Represent Training & Testing samples suitable for #tensorflow backend\n",
        "x_train=xtrain.reshape(xtrain.shape[0],784).astype('float32')\n",
        "x_test=xtest.reshape(xtest.shape[0],784).astype('float32')\n"
      ],
      "execution_count": 10,
      "outputs": []
    },
    {
      "cell_type": "code",
      "metadata": {
        "colab": {
          "base_uri": "https://localhost:8080/"
        },
        "id": "v1QWQjmZ8AgF",
        "outputId": "9fba8691-a46a-4935-9fe7-3c77a754b865"
      },
      "source": [
        "x_test.shape"
      ],
      "execution_count": 11,
      "outputs": [
        {
          "output_type": "execute_result",
          "data": {
            "text/plain": [
              "(10000, 784)"
            ]
          },
          "metadata": {
            "tags": []
          },
          "execution_count": 11
        }
      ]
    },
    {
      "cell_type": "code",
      "metadata": {
        "id": "5qajCj7-8AgH"
      },
      "source": [
        "x_train/=255\n",
        "x_test/=255"
      ],
      "execution_count": 12,
      "outputs": []
    },
    {
      "cell_type": "code",
      "metadata": {
        "id": "mZnZ2Dq78AgL"
      },
      "source": [
        "from tensorflow import keras\n",
        "\n",
        "y_train = keras.utils.to_categorical(ytrain, 10)\n",
        "y_test = keras.utils.to_categorical(ytest, 10)"
      ],
      "execution_count": 13,
      "outputs": []
    },
    {
      "cell_type": "code",
      "metadata": {
        "id": "TPpy3hpM8AgO"
      },
      "source": [
        "# Initialize the constructor\n",
        "\n",
        "model = Sequential()"
      ],
      "execution_count": 14,
      "outputs": []
    },
    {
      "cell_type": "code",
      "metadata": {
        "id": "19kdw8qz8AgV"
      },
      "source": [
        "# Define model architecture\n",
        "\n",
        "model.add(Dense(784,activation='relu'))\n",
        "model.add(Dense(100, activation ='relu'))\n",
        "model.add(Dense(10,activation='softmax'))"
      ],
      "execution_count": 15,
      "outputs": []
    },
    {
      "cell_type": "code",
      "metadata": {
        "id": "MKKOQijJ8AgY"
      },
      "source": [
        "model.compile(loss='categorical_crossentropy',optimizer='adam',metrics=['accuracy'])"
      ],
      "execution_count": 16,
      "outputs": []
    },
    {
      "cell_type": "code",
      "metadata": {
        "id": "eID1KnUWGObO"
      },
      "source": [
        "Q"
      ],
      "execution_count": null,
      "outputs": []
    },
    {
      "cell_type": "code",
      "metadata": {
        "colab": {
          "base_uri": "https://localhost:8080/"
        },
        "id": "7jWMYY138Aga",
        "outputId": "32acc456-f2ec-4000-c766-6e7fb8d8e0d4"
      },
      "source": [
        "model.fit(x_train, y_train, epochs=10, batch_size=256, verbose=1) "
      ],
      "execution_count": 25,
      "outputs": [
        {
          "output_type": "stream",
          "text": [
            "Epoch 1/10\n",
            "235/235 [==============================] - 5s 20ms/step - loss: 0.0040 - accuracy: 0.9989\n",
            "Epoch 2/10\n",
            "235/235 [==============================] - 5s 20ms/step - loss: 5.2802e-04 - accuracy: 0.9999\n",
            "Epoch 3/10\n",
            "235/235 [==============================] - 5s 20ms/step - loss: 2.0289e-04 - accuracy: 1.0000\n",
            "Epoch 4/10\n",
            "235/235 [==============================] - 5s 20ms/step - loss: 1.3322e-04 - accuracy: 1.0000\n",
            "Epoch 5/10\n",
            "235/235 [==============================] - 5s 20ms/step - loss: 1.0449e-04 - accuracy: 1.0000\n",
            "Epoch 6/10\n",
            "235/235 [==============================] - 5s 20ms/step - loss: 8.6293e-05 - accuracy: 1.0000\n",
            "Epoch 7/10\n",
            "235/235 [==============================] - 5s 20ms/step - loss: 7.2609e-05 - accuracy: 1.0000\n",
            "Epoch 8/10\n",
            "235/235 [==============================] - 5s 20ms/step - loss: 6.2231e-05 - accuracy: 1.0000\n",
            "Epoch 9/10\n",
            "235/235 [==============================] - 5s 20ms/step - loss: 5.3995e-05 - accuracy: 1.0000\n",
            "Epoch 10/10\n",
            "235/235 [==============================] - 5s 20ms/step - loss: 4.7275e-05 - accuracy: 1.0000\n"
          ],
          "name": "stdout"
        },
        {
          "output_type": "execute_result",
          "data": {
            "text/plain": [
              "<tensorflow.python.keras.callbacks.History at 0x7f9e0b34ada0>"
            ]
          },
          "metadata": {
            "tags": []
          },
          "execution_count": 25
        }
      ]
    },
    {
      "cell_type": "code",
      "metadata": {
        "colab": {
          "base_uri": "https://localhost:8080/"
        },
        "id": "eooLx3Mp8Agd",
        "outputId": "8dd68502-2b0e-4348-af91-90bd84c01a62"
      },
      "source": [
        "loss, acc = model.evaluate(x_test, y_test, verbose=0)\n",
        "print('Accuracy: %.3f'  % acc)\n",
        "print('Loss: %.3f' % loss)"
      ],
      "execution_count": 26,
      "outputs": [
        {
          "output_type": "stream",
          "text": [
            "Accuracy: 0.985\n",
            "Loss: 0.077\n"
          ],
          "name": "stdout"
        }
      ]
    },
    {
      "cell_type": "code",
      "metadata": {
        "id": "yMANVqX58Agj"
      },
      "source": [
        "y_predict = model.predict(x_test)"
      ],
      "execution_count": 28,
      "outputs": []
    },
    {
      "cell_type": "code",
      "metadata": {
        "colab": {
          "base_uri": "https://localhost:8080/"
        },
        "id": "yOgumyig8Agm",
        "outputId": "d9b35a26-1fb2-4157-e05b-7988fb3b1c2f"
      },
      "source": [
        "y_predict[0]"
      ],
      "execution_count": 20,
      "outputs": [
        {
          "output_type": "execute_result",
          "data": {
            "text/plain": [
              "array([2.0264326e-06, 6.9090055e-07, 1.0208258e-04, 2.3057908e-03,\n",
              "       3.0189213e-08, 1.1894099e-06, 1.8031253e-10, 9.9732119e-01,\n",
              "       1.7749091e-05, 2.4929590e-04], dtype=float32)"
            ]
          },
          "metadata": {
            "tags": []
          },
          "execution_count": 20
        }
      ]
    },
    {
      "cell_type": "code",
      "metadata": {
        "colab": {
          "base_uri": "https://localhost:8080/"
        },
        "id": "lbbqEylx8Agp",
        "outputId": "dca4ee22-5ea2-418f-db50-7aff67c564ac"
      },
      "source": [
        "np.argmax(y_predict[120])"
      ],
      "execution_count": 30,
      "outputs": [
        {
          "output_type": "execute_result",
          "data": {
            "text/plain": [
              "5"
            ]
          },
          "metadata": {
            "tags": []
          },
          "execution_count": 30
        }
      ]
    },
    {
      "cell_type": "code",
      "metadata": {
        "colab": {
          "base_uri": "https://localhost:8080/"
        },
        "id": "Blqo-6lQ8Agr",
        "outputId": "c2332c61-b9df-4766-c6b0-70df905a0f42"
      },
      "source": [
        "y_pred = []\n",
        "for val in y_predict:\n",
        "    y_pred.append(np.argmax(val))\n",
        "#print(y_pred)    \n",
        "#convert 0 1 to 1 and 1 0 as 0\n",
        "cm = metrics.confusion_matrix(ytest,y_pred)\n",
        "print(cm)"
      ],
      "execution_count": 33,
      "outputs": [
        {
          "output_type": "stream",
          "text": [
            "[[ 971    1    1    1    1    0    2    1    1    1]\n",
            " [   0 1125    3    1    0    0    2    1    3    0]\n",
            " [   3    1 1015    1    2    0    1    5    4    0]\n",
            " [   1    0    3  996    0    4    0    2    2    2]\n",
            " [   1    1    3    0  964    0    3    1    0    9]\n",
            " [   1    0    0    8    1  877    2    0    2    1]\n",
            " [   2    2    1    1    1    3  948    0    0    0]\n",
            " [   0    3    6    0    0    0    0 1012    2    5]\n",
            " [   1    0    2    2    5    1    0    2  955    6]\n",
            " [   2    2    0    3    7    2    1    1    2  989]]\n"
          ],
          "name": "stdout"
        }
      ]
    },
    {
      "cell_type": "code",
      "metadata": {
        "colab": {
          "base_uri": "https://localhost:8080/"
        },
        "id": "oLEPbJmv8Agt",
        "outputId": "4ba493b6-9bee-4c1a-c46c-c58a1f152886"
      },
      "source": [
        "cr=metrics.classification_report(ytest,y_pred)\n",
        "print(cr)"
      ],
      "execution_count": 34,
      "outputs": [
        {
          "output_type": "stream",
          "text": [
            "              precision    recall  f1-score   support\n",
            "\n",
            "           0       0.99      0.99      0.99       980\n",
            "           1       0.99      0.99      0.99      1135\n",
            "           2       0.98      0.98      0.98      1032\n",
            "           3       0.98      0.99      0.98      1010\n",
            "           4       0.98      0.98      0.98       982\n",
            "           5       0.99      0.98      0.99       892\n",
            "           6       0.99      0.99      0.99       958\n",
            "           7       0.99      0.98      0.99      1028\n",
            "           8       0.98      0.98      0.98       974\n",
            "           9       0.98      0.98      0.98      1009\n",
            "\n",
            "    accuracy                           0.99     10000\n",
            "   macro avg       0.99      0.99      0.99     10000\n",
            "weighted avg       0.99      0.99      0.99     10000\n",
            "\n"
          ],
          "name": "stdout"
        }
      ]
    },
    {
      "cell_type": "code",
      "metadata": {
        "id": "jJUk8v2L8Agx"
      },
      "source": [
        ""
      ],
      "execution_count": 23,
      "outputs": []
    },
    {
      "cell_type": "code",
      "metadata": {
        "id": "vjxAXBYF8Agz"
      },
      "source": [
        ""
      ],
      "execution_count": 23,
      "outputs": []
    }
  ]
}